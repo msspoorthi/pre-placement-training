

Find the compound interest for the given p,n,r (formula : p(1+n*r/100)n )¶ 
In [0]:
def compound_interest(principle, rate, time):
       CI = principle * (pow((1 + rate / 100), time))
       print("Compound interest is", CI) 
p=int(input("enter p value: ")) 
n=int(input("enter n value: ")) 
r=float(input("enter r value: ")) 
compound_interest(p, r, n)

enter p value: 1200
enter n value: 2
enter r value: 5.4
Compound interest is 1333.0992

Convert centegrade to farenheit ( f= 9/5*c+32)
In [0]:
celsius = float(input("Enter temperature in celsius: "))
fahrenheit = (celsius * 9/5) + 32
print('%.2f Celsius is: %0.2f Fahrenheit' %(celsius, fahrenheit))

Enter temperature in celsius: 37
37.00 Celsius is: 98.60 Fahrenheit

Find the greater of two nos
In [0]:
a=int(input("enter a num : ")) 
b=int(input("enter a num : ")) 
print("greater num is : ") 
if(a>b):  
  print(a) 
else:  
  print(b)

enter a num : 45
enter a num : 32
greater num is : 
45

Write a program for finding surface areas of cylinder and cone (2PIrrh, 1/3PIrrh) using function.
In [0]:
import math 
def Cylinder(r,h):  
  return 2*math.pi*r*r*h 
def cone(r,h):  
  return (1/3)*math.pi*r*r*h 
r=int(input("enter r value : ")) 
h=int(input("enter h value")) 
print("surface area of cylinder is : %.2f"%Cylinder(r,h)) 
print("surface area of cone is : %.2f "%cone(r,h))

enter r value : 5
enter h value3
surface area of cylinder is : 471.24
surface area of cone is : 78.54 

Find the greatest of four nos ( using ‘and’ operator) using function.
In [0]:
a=int(input("enter 1st num: ")) 
b=int(input("enter 2nd num: ")) 
c=int(input("enter 3rd num: ")) 
d=int(input("enter 4th num: ")) 
print("greater num is : ") 
if(a>b and a>c and a>d):  
  print(a) 
elif(b>c and b>d):  
  print(b) 
elif(c>d):  
  print(c) 
else:  print(d)

enter 1st num: 23
enter 2nd num: 34
enter 3rd num: 12
enter 4th num: 53
greater num is : 
53

Write a menu program to perform the operations ( ODDorEven, Factorial, ODDNoUptoN, PrimeUptoN ) using functions for two nos with menu choice


In [1]:
loop = 1 # 1 means loop; anything else means don't loop.
choice = 0 # This variable holds the user's choice in the menu

def odd(a):
    if a%2==0:
      print("Even")
    else:
      print("Odd") 
def factorial(a):
    if a==1:
      return a
    else:
      return a*factorial(a-1)
def oddton(a):
    for i in range(1,a,2):
      print(i,end=" ")
def prime(a,b):
    for i in range(a,b+1):
      if i>1:
          for x in range(2,i):
             if((i % x)==0):
                break
          else:
             print(x,end=" ")

while loop == 1:
    # Print what options you have
    print ("Choose")
    print ("your options are:")
    print (" ")
    print("1) Odd or Even")
    print("2) Factorial")
    print("3) Odd upto N")
    print("4) Prime upto N")
    print("5) Quit")
    print(" ")
    try:
        choice = int(input("Choose your option: "))
    except:
        print('please enter a valid number for option')
    print(" ")
    print(" ")
    if choice == 1:
        a = int(input("Enter no: "))
        print(odd(a))
    elif choice == 2:
        a = int(input("Enter no: "))
        print(factorial(a))
    elif choice == 3:
        a = int(input("Enter no: "))
        print("answer is ",oddton(a))
    elif choice == 4:
        a = int(input("Enter no: "))
        b = int(input("Enter no: "))
        print(prime(a,b))    
    elif choice == 5:
        loop = 0  
    else:
        print("please choice a valid option from 1 to 5")
        choice=0
print ("Thank-you!")

Choose
your options are:
 
1) Odd or Even
2) Factorial
3) Odd upto N
4) Prime upto N
5) Quit
 
Choose your option: 1
 
 
Enter no: 35
Odd
None
Choose
your options are:
 
1) Odd or Even
2) Factorial
3) Odd upto N
4) Prime upto N
5) Quit
 
Choose your option: 2
 
 
Enter no: 4
24
Choose
your options are:
 
1) Odd or Even
2) Factorial
3) Odd upto N
4) Prime upto N
5) Quit
 
Choose your option: 3
 
 
Enter no: 3
1 answer is  None
Choose
your options are:
 
1) Odd or Even
2) Factorial
3) Odd upto N
4) Prime upto N
5) Quit
 
Choose your option: 4
 
 
Enter no: 5
Enter no: 9
4 6 None
Choose
your options are:
 
1) Odd or Even
2) Factorial
3) Odd upto N
4) Prime upto N
5) Quit
 
Choose your option: 5
 
 
Thank-you!