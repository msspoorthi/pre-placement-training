

1 Write a program to print the triangle
In [45]
rows = 4
for i in range(0, rows+1)
    for j in range(i, i+i , 1)
        print(j, end=' ')
    print()

1 
2 3 
3 4 5 
4 5 6 7 


In [46]
rows = 4
for i in range(0, rows+1)
    for j in range(i, i+i , 1)
        print('', end=' ')
    print()

 
  
   
    
In [47]
rows = 5
for i in range(0, rows)
    for j in range(rows-i , rows+1 , 1)
        print(j, end=' ')
    print()

5 
4 5 
3 4 5 
2 3 4 5 
1 2 3 4 5 
In [48]
rows = 5
for i in range(0, rows+1)
    for j in range(rows-i, 0 , -1)
        print(j, end=' ')
    print()

5 4 3 2 1 
4 3 2 1 
3 2 1 
2 1 
1 

In [49]
rows = 4
for i in range(1, rows+1)
    for j in range(i, rows+1 , 1)
        print(j, end=' ')
    print()
for i in range(1,rows)
  for j in range(rows-i,rows+1,1)
    print(j,end= )
  print()

1 2 3 4 
2 3 4 
3 4 
4 
3 4 
2 3 4 
1 2 3 4 

Find the length of a string without using len functions
In [50]
string=str(input(Enter string))
count=0
for i in string
      count=count+1
print(Length of the string is)
print(count)

Enter stringpython
Length of the string is
6

Find the no of words and characters in a string
In [52]
def count(s)
  c=0
  a=s.split()
  v=len(a)
  for i in a
    c=c+len(i)
  print(word count=,v)
  print(sentence count=,c)
s=str(input(enter the string))
count(s)

enter the stringthis is python program 
word count= 4
sentence count= 19

Find the no of occurrences of a word in a string
In [53]
def countOccurences(str, word) 
    a = str.split( )  
    count = 0
    for i in range(0, len(a))   
        if (word == a[i]) 
           count = count + 1
    return count        
string =str(input(enter the string))
word =str(input(enter the word))
print(countOccurences(string, word))

enter the stringthis is a is a python program
enter the wordis
2