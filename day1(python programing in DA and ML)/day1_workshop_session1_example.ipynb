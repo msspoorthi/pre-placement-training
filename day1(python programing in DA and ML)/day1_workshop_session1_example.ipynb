

Python Program to Add Two Numbers getting through key board¶ 
In [1]:
# sum of two nos
num1 = int(input("Enter first no"))
num2 = int(input("Enter second no"))

# Adding the two numbers
sum = num1 + num2

# Display the sum
print('The sum of {0} and {1} is {2}'.format(num1, num2, sum))

Enter first no5
Enter second no4
The sum of 5 and 4 is 9

Python program to check if the input year is a leap year or not
In [3]:
# To get year (integer input) from the user
year = int(input("Enter a year: "))

if ((year % 4) == 0 and (year % 100)  != 0) or ((year % 400) == 0):
           print("{0} is a leap year".format(year))
else:
           print("{0} is not a leap year".format(year))

Enter a year: 2003
2003 is not a leap year

Python Program to Convert Kilometers to Miles
In [4]:
# To take kilometers from the user, uncomment the code below
kilometers = int(input("Enter value in kilometers"))

# conversion factor
conv_fac = 0.621371

# calculate miles
miles = kilometers * conv_fac
print('%0.3f kilometers is equal to %0.3f miles' %(kilometers,miles))

Enter value in kilometers32
32.000 kilometers is equal to 19.884 miles

Python Program to Solve Quadratic Equation
In [5]:
# Solve the quadratic equation ax**2 + bx + c = 0
# importing  complex math module
import cmath

 # To take coefficient input from the users
a = float(input('Enter a: '))
b = float(input('Enter b: '))
c = float(input('Enter c: '))

# calculate the discriminant
d = (b**2) - (4*a*c)

# find two solutions
sol1 = (-b-cmath.sqrt(d))/(2*a)
sol2 = (-b+cmath.sqrt(d))/(2*a)

print('The solution are {0} and {1}'.format(sol1,sol2))

Enter a: 2
Enter b: 3
Enter c: 4
The solution are (-0.75-1.1989578808281798j) and (-0.75+1.1989578808281798j)

Python Program to find prime or not using function
In [6]:
def test_prime(n):
    if (n==1):
        return False
    elif (n==2):
        return True;
    else:
        for x in range(2,n):
            if(n % x==0):
                return False
        return True
no=int(input("Enter the number"))
if (test_prime(no)) is True :
    print(" {0} is a prime no".format(no))
else:
     print(" {0} is not a prime no".format(no))

Enter the number3
 3 is a prime no

CODING
"""Calculator program"""
In [11]:
loop = 1 # 1 means loop; anything else means don't loop.
choice = 0 # This variable holds the user's choice in the menu

def add(a,b):
    return a+b 
def sub(a,b):
    return a-b
def mul(a,b):
    return a*b
def div(a,b):
    return a/b

while loop == 1:
    # Print what options you have
    print ("Welcome to calculator.py")
    print ("your options are:")
    print (" ")
    print("1) Addition")
    print("2) Subtraction")
    print("3) Multiplication")
    print("4) Division")
    print("5) Quit calculator.py")
    print(" ")
    try:
        choice = int(input("Choose your option: "))
    except:
        print('please enter a valid number for option')
    print(" ")
    print(" ")
    if choice == 1:
        x = int(input("Enter 1st no: "))
        y = int(input("Enter 2nd no: "))
        print("The answer is ",add(x,y))

    elif choice == 2:
        x = int(input("Enter 1st no: "))
        y = int(input("Enter 2nd no: "))
        print("answer is ",sub(x,y))
  
    elif choice == 3:
        x = int(input("Enter 1st no: "))
        y = int(input("Enter 2nd no: "))
        print("answer is ",mul(x,y))

    elif choice == 4:
        x = int(input("Enter 1st no: "))
        y = int(input("Enter 2nd no: "))
        print("answer is ",div(x,y))
        
    elif choice == 5:
        loop = 0
     
    else:
        print("please choice a valid option from 1 to 5")
        choice=0
print ("Thank-you for using calculator.py!")

Welcome to calculator.py
your options are:
 
1) Addition
2) Subtraction
3) Multiplication
4) Division
5) Quit calculator.py
 
Choose your option: 3
 
 
Enter 1st no: 2
Enter 2nd no: 3
answer is  6
Welcome to calculator.py
your options are:
 
1) Addition
2) Subtraction
3) Multiplication
4) Division
5) Quit calculator.py
 
Choose your option: 5
 
 
Thank-you for using calculator.py!