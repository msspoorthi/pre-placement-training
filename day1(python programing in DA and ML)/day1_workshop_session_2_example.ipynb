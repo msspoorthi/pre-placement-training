



Python Program to find the factorial of a number using loop.¶ 
In [1]:
n=int(input("Enter number:"))
fact=1

while(n>0):
    fact=fact*n
    n=n-1
print("Factorial of the number is: ")
print(fact)

Enter number:5
Factorial of the number is: 
120

Python Program to reverse a number using loop
In [2]:
r=0
n=int(input("Enter a number: "))
while(n>0):
    dig=n%10
    r=r*10+dig
    n=n//10
print("The reversed no  is:")
print(r)

Enter a number: 12654
The reversed no  is:
45621

Write a Python program to construct the following pattern, using a nested for loop.

* 





*
In [3]:
n=5;
for i in range(n):
    for j in range(i):
        print ('* ', end="")
    print('')

for i in range(n,0,-1):
    for j in range(i):
        print('* ', end="")
    print('')

* 
* * 
* * * 
* * * * 
* * * * * 
* * * * 
* * * 
* * 
* 

Python Program to replace all occurrences of ‘a’ with ‘$’ in a string.
In [5]:
string=input("Enter string:")
string=string.replace('a','$')
string=string.replace('A','$')
print("Modified string:")
print(string)

Enter string:this is python program
Modified string:
this is python progr$m

Python Program to remove the nth index character from a non-empty string.
In [6]:
def remove(string, n):  
      first = string[:n]   
      last = string[n+1:]  
      return first + last
string=input("Enter the sring:")
n=int(input("Enter the index of the character to remove:"))
print("Modified string:")
print(remove(string, n))

Enter the sring:hello world
Enter the index of the character to remove:5
Modified string:
helloworld

Python Program to detect if two strings are anagrams.
In [8]:
s1=input("Enter first string:")
s2=input("Enter second string:")
if(sorted(s1)==sorted(s2)):
      print("The strings are anagrams.")
else:
      print("The strings aren't anagrams.")

Enter first string:python
Enter second string:python
The strings are anagrams.

Python Program to form a string where the first character and the last character have been exchanged.
In [9]:
def change(string):
      return string[-1:] + string[1:-1] + string[:1]
string=input("Enter string:")
print("Modified string:")
print(change(string))

Enter string:hello buddy
Modified string:
yello buddh

Python Program to count number of vowels from a non-empty string.
In [10]:
string=input("Enter string:")
vowels=0
for i in string:
      if(i=='a' or i=='e' or i=='i' or i=='o' or i=='u' or i=='A' or i=='E' or i=='I' or i=='O' or i=='U'):
            vowels=vowels+1
print("Number of vowels are:")
print(vowels)

Enter string:this is python program
Number of vowels are:
5

Program for Divide by zero error detection
In [11]:
flag = True

def div(a, b):  
       try:
            print("Finally the division of %d/%d is %f" % (a, b,a/b))
            global flag
            flag=False
       except ZeroDivisionError:
            print("Zero Division Error detected")
       else:
            print("Division is successful") 
       finally:
            if flag is True:
               print("Try again")     
            else:
               print("Thank you")
       
#global flag

while flag is True:
    div(int(input("Enter numerator")),int(input("Enter denominator")))

Enter numerator6
Enter denominator0
Zero Division Error detected
Try again
Enter numerator7
Enter denominator0
Zero Division Error detected
Try again
Enter numerator5
Enter denominator6
Finally the division of 5/6 is 0.833333
Division is successful
Thank you

Program for ValueError error detection
In [13]:
while True:
     try:
         x = int(input("Please enter a number: "))
         print(" That was valid number. Thank you")
         break
     except ValueError:
         print("Oops!  That was no valid number.  Try again...")

Please enter a number: t5
Oops!  That was no valid number.  Try again...
Please enter a number: 34
 That was valid number. Thank you