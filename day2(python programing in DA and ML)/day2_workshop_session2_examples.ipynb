

Removes all elements of dictionary dict¶ 
In [1]:
dict = {'Name': 'Zara', 'Age': 7};
print("Start Len : %d" %  len(dict))
dict.clear()
print("End Len : %d" %  len(dict))

Start Len : 2
End Len : 0

Returns a list of dict's (key, value) tuple pairs
In [2]:
dict = {'Name': 'Zara', 'Age': 7}
print ("Value : %s" %  dict.items())

Value : dict_items([('Name', 'Zara'), ('Age', 7)])

Returns a copy of dictionary dict
In [3]:
dict1 = {'Name': 'Zara', 'Age': 7};
dict2 = dict1.copy()
print ("New Dictinary : %s" %  str(dict2))

New Dictinary : {'Name': 'Zara', 'Age': 7}

Python Program to Generate a Dictionary that Contains Numbers (between 1 and n) in the Form (x,x*x).
In [4]:
n=int(input("Enter a number:"))
d={x:x*x for x in range(1,n+1)}
print(d)

Enter a number:6
{1: 1, 2: 4, 3: 9, 4: 16, 5: 25, 6: 36}

Python Program to Sum All the Items in a Dictionary
In [5]:
d={'A':100,'B':540,'C':239}
print("Total sum of values in the dictionary:")
print(sum(d.values()))

Total sum of values in the dictionary:
879

Python Program to Remove the Given Key from a Dictionary
In [6]:
d = {'a':1,'b':2,'c':3,'d':4}
print("Initial dictionary")
print(d)
key=input("Enter the key to delete(a-d):")
if key in d: 
    del d[key]
else:
    print("Key not found!")
    exit(0)
print("Updated dictionary")
print(d)

Initial dictionary
{'a': 1, 'b': 2, 'c': 3, 'd': 4}
Enter the key to delete(a-d):c
Updated dictionary
{'a': 1, 'b': 2, 'd': 4}

Python Program to add name and mark as key->value pair in a Dictionary and print it.
In [8]:
n=int(input("Enter no of records"))
d={}
for i in range(1,n+1):
    name= input("Enter name %d"%(i))
    mark=int(input("Enter mark %d"%(i)))
    d[name]=mark
    print (d)

Enter no of records4
Enter name 1raj
Enter mark 156
{'raj': 56}
Enter name 2gor
Enter mark 245
{'raj': 56, 'gor': 45}
Enter name 3satt
Enter mark 399
{'raj': 56, 'gor': 45, 'satt': 99}
Enter name 4ram
Enter mark 487
{'raj': 56, 'gor': 45, 'satt': 99, 'ram': 87}

Keys and Values example
In [10]:
d={}
print (" The dictionary elements are")
for i in range(1,21):
        d[i]=i**2
print (d)
    # To print key and values
print (" Key==> Value are")
for (k,v) in d.items():	
        print(k,"==>",v)
  # To print key only
print ("\nTo print key only")
for k in d.keys():	
        print(k, end=" ")
  #To print value only
print ("\nTo print values only")
for v in d.values():	
        print(v, end=" ")

 The dictionary elements are
{1: 1, 2: 4, 3: 9, 4: 16, 5: 25, 6: 36, 7: 49, 8: 64, 9: 81, 10: 100, 11: 121, 12: 144, 13: 169, 14: 196, 15: 225, 16: 256, 17: 289, 18: 324, 19: 361, 20: 400}
 Key==> Value are
1 ==> 1
2 ==> 4
3 ==> 9
4 ==> 16
5 ==> 25
6 ==> 36
7 ==> 49
8 ==> 64
9 ==> 81
10 ==> 100
11 ==> 121
12 ==> 144
13 ==> 169
14 ==> 196
15 ==> 225
16 ==> 256
17 ==> 289
18 ==> 324
19 ==> 361
20 ==> 400

To print key only
1 2 3 4 5 6 7 8 9 10 11 12 13 14 15 16 17 18 19 20 
To print values only
1 4 9 16 25 36 49 64 81 100 121 144 169 196 225 256 289 324 361 400 

Python program to convert 2 digit number into words
In [12]:
d={0:'',1:'one',2:'two',3:'three',4:'four',5:'five',6:'six',7:'seven',8:'eight',9:'nine',\
   10:'ten',11:'eleven',12:'twelve',13:'thirteen',14:'fourteen',15:'fifteen',16:'sixteen',\
   17:'seventeen',18:'eightteen',19:'nineteen',20:'twenty',30:'thirty',40:'fourty',50:'fifty',\
   60:'sixty',70:'seventy',80:'eighty',90:'ninty'}

num=int(input("Enter the integer between 1 to 99:"))
if (num<=20):
      print(d[num])
if(num>20 and num<100):
        if num%10==0:       
            print(d[num])
        else:
            print(d[num//10*10]+" "+d[num%10])

Enter the integer between 1 to 99:56
fifty six

How to sort a dictionary by values in Python
In [13]:
d = {"Pierre": 42, "Anne": 33, "Zoe": 24}
#Use the sorted function and operator module
import operator
sorted_d = sorted(d.items(), key=operator.itemgetter(1))
print(sorted_d)
sorted_a= sorted(d.items(), key=operator.itemgetter(1),reverse=True)
print(sorted_a)

[('Zoe', 24), ('Anne', 33), ('Pierre', 42)]
[('Pierre', 42), ('Anne', 33), ('Zoe', 24)]

Files Examples

Python Program to count the number of lines in a text file.
In [14]:
fname = input("Enter file name: ")
num_lines = 0
with open(fname, 'r') as f:
    for line in f:
        num_lines += 1
print("Number of lines:")
print(num_lines)

Enter file name: doc.txt
Number of lines:
2

Python Program to count the number of words in a text file.
In [15]:
fname = input("Enter file name: ")
num_words = 0
with open(fname, 'r') as f:
    for line in f:
        words = line.split()
        num_words += len(words)
print("Number of words:")
print(num_words)

Enter file name: doc.txt
Number of words:
6

Python Program to count the occurrences of a word in a text file.
In [16]:
fname = input("Enter file name: ")
word=input("Enter word to be searched:")
k = 0

with open(fname, 'r') as f:
    for line in f:
        words = line.split()
        for i in words:
            if(i==word):
                k=k+1
print("Occurrences of the word:")
print(k)

Enter file name: doc.txt
Enter word to be searched:python
Occurrences of the word:
1

Python Program to copy the contents of one file into another.
In [0]:
with open("doc.txt") as f:
    with open("out.txt", "w") as f1:
        for line in f:
            f1.write(line)

Python Program to read the contents of the file in reverse order.
In [20]:
filename=input("Enter file name: ")
    
with open (filename,'r') as f:
    for line in f:
        l=line.split()
        l.reverse() 
        st= " ".join(l)
        print (st)

Enter file name: doc.txt
hello,everyone
program python a is this