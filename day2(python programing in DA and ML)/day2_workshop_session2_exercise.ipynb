

Add rollno and marks {name:mark} for n number of students through keyboard in a dictionary and print the marks in descending order with respective name.¶ 
In [9]:
import operator
n=int(input("Enter no of records"))
d={}
for i in range(1,n+1):
    name= input("Enter name %d"%(i))
    mark=int(input("Enter mark %d"%(i)))
    d[name]=mark
    print(d)
sorted_a= sorted(d.items(), key=operator.itemgetter(0),reverse=True)
print(sorted_a)

Enter no of records3
Enter name 1ram
Enter mark 156
{'ram': 56}
Enter name 2arun
Enter mark 267
{'ram': 56, 'arun': 67}
Enter name 3mohan
Enter mark 335
{'ram': 56, 'arun': 67, 'mohan': 35}
[('ram', 56), ('mohan', 35), ('arun', 67)]

Add name and salary {name:salary} for n number of employees through keyboard in a dictionary and print them in name alphabetical order with salary
In [10]:
import operator
n=int(input("Enter no of records"))
d={}
for i in range(1,n+1):
    name= input("Enter name %d"%(i))
    mark=int(input("Enter salary %d"%(i)))
    d[name]=mark
    print(d)
sorted_a= sorted(d.items(), key=operator.itemgetter(0),reverse=False)
print(sorted_a)

Enter no of records3
Enter name 1varun
Enter salary 145000
{'varun': 45000}
Enter name 2rohit
Enter salary 290234
{'varun': 45000, 'rohit': 90234}
Enter name 3arun
Enter salary 334000
{'varun': 45000, 'rohit': 90234, 'arun': 34000}
[('arun', 34000), ('rohit', 90234), ('varun', 45000)]

Add name and salary {name:salary} for n number of employees through keyboard in a dictionary and print them in salary ascending order and sum, max, min and average of the salaries
In [21]:
import operator
n=int(input("Enter no of records"))
d={}
for i in range(1,n+1):
    name= input("Enter name %d"%(i))
    mark=int(input("Enter salary %d"%(i)))
    d[name]=mark
    print(d)
sorted_a= sorted(d.items(), key=operator.itemgetter(1),reverse=False)
print(sorted_a)
print("max=%d"%sum(d.values()))
print("max=%d"%max(d.values()))
print("min=%d"%min(d.values()))
print("avg=%d"%(sum(d.values())/2))

Enter no of records3
Enter name 1ram
Enter salary 134
{'ram': 34}
Enter name 2sham
Enter salary 21200
{'ram': 34, 'sham': 1200}
Enter name 3kalu
Enter salary 3276
{'ram': 34, 'sham': 1200, 'kalu': 276}
[('ram', 34), ('kalu', 276), ('sham', 1200)]
max=1510
max=1200
min=34
avg=755

Add name and salary {name:salary} for n number of employees through keyboard in a dictionary and print only the employees whose salary is greater than 2000 but less than 4000
In [25]:
import operator
n=int(input("Enter no of records"))
d={}
for i in range(1,n+1):
    name= input("Enter name %d"%(i))
    sal=int(input("Enter salary %d"%(i)))
    if (sal >2000 and sal< 4000):
       d[name]=sal
print(d)

Enter no of records4
Enter name 1raju
Enter salary 12002
Enter name 2ramu
Enter salary 21098
Enter name 3shamu
Enter salary 38909
Enter name 4charan
Enter salary 43900
{'raju': 2002, 'charan': 3900}

Python program to convert a 3 digit number into words
In [43]:
def convert_to_words(num):  
    l = len(num);    
    if (l == 0): 
        print("empty string"); 
        return; 
  
    if (l > 4): 
        print("Length more than 4 is not supported"); 
        return;   
    single_digits = ["zero", "one", "two", "three",  
                     "four", "five", "six", "seven",  
                     "eight", "nine"];  
    two_digits = ["", "ten", "eleven", "twelve",  
                  "thirteen", "fourteen", "fifteen",  
                  "sixteen", "seventeen", "eighteen", 
                  "nineteen"];  
    tens_multiple = ["", "", "twenty", "thirty", "forty", 
                     "fifty", "sixty", "seventy", "eighty",  
                     "ninety"]; 
    tens_power = ["hundred", "thousand"];   
    print(num, ":", end = " ");   
    if (l == 1):  
        print(single_digits[ord(num[0]) - '0']); 
        return;  
    x = 0; 
    while (x < len(num)):    
        if (l >= 3): 
            if (ord(num[x]) - 48 != 0): 
                print(single_digits[ord(num[x]) - 48],  
                                           end = " "); 
                print(tens_power[l - 3], end = " ");  
                  
            l -= 1; 
        else:   
            if (ord(num[x]) - 48 == 1):  
                sum = (ord(num[x]) - 48 + 
                       ord(num[x]) - 48); 
                print(two_digits[sum]); 
                return;   
            elif (ord(num[x]) - 48 == 2 and 
                  ord(num[x + 1]) - 48 == 0): 
                print("twenty"); 
                return;  
            else: 
                i = ord(num[x]) - 48; 
                if(i > 0): 
                    print(tens_multiple[i], end = " "); 
                else: 
                    print("", end = ""); 
                x += 1; 
                if(ord(num[x]) - 48 != 0): 
                    print(single_digits[ord(num[x]) - 48]); 
        x += 1; 
convert_to_words("523"); 
convert_to_words("898");

523 : five hundred twenty three
898 : eight hundred ninety eight

python Program to count the total number of charaters (except blank space) in a text file.
In [36]:
input_file = input("Enter File name : ")
file_txt = open(input_file)		
text = file_txt.read()			
charc = 0	
for i in text:				
	if(i != " " and i != "\n" ):
		 charc += 1
 
print ("total num of characters: ",charc);

Enter File name : doc.txt
total num of characters:  10

Python Program to print all the numbers present in a text file with its total number of occurrence.
In [45]:
input_file = input("Enter File name : ")
file_txt = open(input_file)		
text = file_txt.read()	
w = []	
d = dict() 
for line in text: 
    line = line.strip() 	
    if(line.isdigit()):
           w.append(line)
for j in w:
      if j in d:
        d[j] = d[j] + 1
      else: 
            d[j] = 1 
for key in list(d.keys()): 
    print(key, ":", d[key])

Enter File name : doc.txt
4 : 1
5 : 2
6 : 1
7 : 1

Python Program to append the contents of one file to another file by getting the both file names through keyboard .
In [46]:
name1 = input("Enter file to be read from: ")
name2 = input("Enter file to be appended to: ")
fin = open(name1, "r")
data2 = fin.read()
fin.close()
fout = open(name2, "a")
fout.write(data2)
fout.close()

Enter file to be read from: doc.txt
Enter file to be appended to: doc1.txt

Python Program to count the number of blank spaces in a text file.
In [47]:
fname = input("Enter file name: ")
k = 0
 
with open(fname, 'r') as f:
    for line in f:
        words = line.split()
        for i in words:
            for letter in i:
                if(letter.isspace):
                    k=k+1
print("Occurrences of blank spaces:")
print(k)

Enter file name: doc.txt
Occurrences of blank spaces:
22

Python Program to read a file and capitalize the first letter of every word in the file and copy the every word capitalized content into another file and read it .
In [48]:
fname = input("Enter file name: ")
with open(fname, 'r') as f:
  with open("out.txt", "w") as f1:
    for line in f:
        l=line.title()
        f1.write(l)
file2=open("out.txt",'r')
line=file2.readline()
while(line!=""):
    print(line)
    line=file2.readline()
file2.close()

Enter file name: doc.txt
Hi Everyone 45,Dsoi Hi

567