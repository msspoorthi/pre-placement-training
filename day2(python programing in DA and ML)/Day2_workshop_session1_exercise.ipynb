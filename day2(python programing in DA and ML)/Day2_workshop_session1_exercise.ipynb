

List Exercises¶ 

print multiples of 3 upto 200 using a list
In [0]:
a = [i for i in range(0,200) if i%3==0]
print(a)

[0, 3, 6, 9, 12, 15, 18, 21, 24, 27, 30, 33, 36, 39, 42, 45, 48, 51, 54, 57, 60, 63, 66, 69, 72, 75, 78, 81, 84, 87, 90, 93, 96, 99, 102, 105, 108, 111, 114, 117, 120, 123, 126, 129, 132, 135, 138, 141, 144, 147, 150, 153, 156, 159, 162, 165, 168, 171, 174, 177, 180, 183, 186, 189, 192, 195, 198]

print the nos only divisable by 5 and 7 between 1000 and 2000 using a list( both inclusive)
In [0]:
a = [i for i in range(1000,2000) if i%5==0 and i%7==0]
print(a)

[1015, 1050, 1085, 1120, 1155, 1190, 1225, 1260, 1295, 1330, 1365, 1400, 1435, 1470, 1505, 1540, 1575, 1610, 1645, 1680, 1715, 1750, 1785, 1820, 1855, 1890, 1925, 1960, 1995]

Add the n number of names in a list and print them alphabetically and reverse alphabetically.
In [0]:
l = []
b=[]
n =int(input("Enter the size"))
for i in range(n):
  a = str(input())
  l.append(a)
b = sorted(l)
print(sorted(l))
print(b[::-1])

Enter the size4
ammu
sathu
poko
kavu
['ammu', 'kavu', 'poko', 'sathu']
['sathu', 'poko', 'kavu', 'ammu']

Print perfect squares and divisible by 5 between 500 and 1000( (both inclusive) using list
In [0]:
a =[]
for i in range(500,1000):
  j =1
  while j*j <=i:
    if j*j == i:
      a.append(i)
    j =j+1
  i =i+1
b = []
for i in a:
  if(i%5==0):
    b.append(i)
print(b)

[625, 900]

Tuples

Get a string and store word by word as elements in a tuple and find the largest word in the tuple and print it
In [1]:
s = "python is good"
a = s.split()
t = tuple(i for i in a)
print(max(t))

python

Get rollno and marks (Rollno, mark) as list of tuples for n number of students through keyboard and print them in marks descending order with rollno.
In [0]:
l = []
l1 = []
n =int(input("Enter the number of students"))
for i in range(n):
  l.append(int(input('Enter roll number')))
  l1.append(int(input('Enter marks')))
a =(l,l1[::-1])
print(a)

Enter the number of students2
Enter roll number1
Enter marks20
Enter roll number2
Enter marks30
([1, 2], [30, 20])

Get name and salary (name, salary) as list of tuples for n number of employees through keyboard and print them in name alphabetical order with salary
In [0]:
l = []
l1 = []
n =int(input("Enter the number of emp"))
for i in range(n):
  l.append(str(input('Enter name')))
  l1.append(int(input('Enter salary')))
  a =(sorted(l),l1)
print(a)

Enter the number of emp2
Enter nameammu
Enter salary200
Enter nameabhi
Enter salary300
(['abhi', 'ammu'], [200, 300])