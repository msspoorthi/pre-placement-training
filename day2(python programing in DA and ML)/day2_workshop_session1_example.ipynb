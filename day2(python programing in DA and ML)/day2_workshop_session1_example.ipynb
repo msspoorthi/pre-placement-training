

Program to find the largest number in a list.¶ 
In [0]:
a=[]
n=int(input("Enter number of elements:"))
for i in range(1,n+1):
    b=int(input("Enter element:"))
    a.append(b)
a.sort()
print("Largest element is:",a[n-1])

Enter number of elements:4
Enter element:2
Enter element:32
Enter element:1
Enter element:5
Largest element is: 32

Python Program to put the even and odd elements in a list into two different lists.
In [0]:
a=[]
n=int(input("Enter number of elements:"))
for i in range(1,n+1):
    b=int(input("Enter element:"))
    a.append(b)
even=[]
odd=[]
for j in a:
    if(j%2==0):
        even.append(j)
    else:
        odd.append(j)
print("The even list",even)
print("The odd list",odd)

Enter number of elements:5
Enter element:12
Enter element:21
Enter element:45
Enter element:23
Enter element:22
The even list [12, 22]
The odd list [21, 45, 23]

Python Program to merge two lists and sort it.
In [0]:
a=[]
c=[]
n1=int(input("Enter number of elements:"))
for i in range(1,n1+1):
    b=int(input("Enter element:"))
    a.append(b)
n2=int(input("Enter number of elements:"))
for i in range(1,n2+1):
    d=int(input("Enter element:"))
    c.append(d)
new=a+c
new.sort()
print("Sorted list is:",new)

Enter number of elements:5
Enter element:12
Enter element:21
Enter element:32
Enter element:43
Enter element:54
Enter number of elements:3
Enter element:12
Enter element:67
Enter element:54
Sorted list is: [12, 12, 21, 32, 43, 54, 54, 67]

Python Program to sort the list according to the second element in the sublist.
In [0]:
a=[['A',34],['B',21],['C',26],['E',29]]
for i in range(0,len(a)):
    for j in range(i+1,len(a)):
        if(a[i][1]>a[j][1]):
            temp=a[j]
            a[j]=a[i]
            a[i]=temp
 
print(a)

[['B', 21], ['C', 26], ['E', 29], ['A', 34]]

Python Program to find the second largest number in a list using bubble sort.
In [0]:
a=[]
n=int(input("Enter number of elements:"))
for i in range(1,n+1):
    b=int(input("Enter element:"))
    a.append(b)
for i in range(0,len(a)):
    for j in range(0,len(a)-i-1):
        if(a[j]>a[j+1]):
            temp=a[j]
            a[j]=a[j+1]
            a[j+1]=temp 
print('Second largest number is:',a[n-2])

Enter number of elements:5
Enter element:12
Enter element:32
Enter element:23
Enter element:44
Enter element:1
Second largest number is: 32

Program to create a list of tuples with the first element as the number and the second element as the square of the number.
In [0]:
l_range=int(input("Enter the lower range:"))
u_range=int(input("Enter the upper range:"))
a=[(x,x**2) for x in range(l_range,u_range+1)]
print(a)

Enter the lower range:1
Enter the upper range:20
[(1, 1), (2, 4), (3, 9), (4, 16), (5, 25), (6, 36), (7, 49), (8, 64), (9, 81), (10, 100), (11, 121), (12, 144), (13, 169), (14, 196), (15, 225), (16, 256), (17, 289), (18, 324), (19, 361), (20, 400)]

Python Program to generate random numbers from 1 to 20 and append them to the list.
In [0]:
import random
a=[]
n=int(input("Enter number of elements:"))
for j in range(n):
    a.append(random.randint(1,20))
print('Randomised list is: ',a)

Enter number of elements:5
Randomised list is:  [10, 11, 20, 14, 10]

Write python program to have a list of words to sort them from longest to shortest using list of tuples
In [1]:
txt = 'but soft what light in yonder window breaks'
words = txt.split()
t = list()
for word in words:
   t.append((len(word), word))
t.sort(reverse=True)

res = list()
for length, word in t:
    res.append(word)

print(res)

['yonder', 'window', 'breaks', 'light', 'what', 'soft', 'but', 'in']

Python program that assigns variables
In [2]:
# Create packed tuple.
pair = ("dog", "cat")

# Unpack tuple.
(key, value) = pair

# Display unpacked variables.
print(key)
print(value)

dog
cat

Python program that searches tuples
In [3]:
pair = ("dog", "cat")

# Search for a value.
if "cat" in pair:
    print("Cat found")

# Search for a value not present.
if "bird" not in pair:
    print("Bird not found")

Cat found
Bird not found