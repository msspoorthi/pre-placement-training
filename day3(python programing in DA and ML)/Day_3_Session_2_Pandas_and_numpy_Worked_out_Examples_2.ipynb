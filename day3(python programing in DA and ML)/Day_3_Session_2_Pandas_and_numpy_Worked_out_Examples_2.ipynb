

Write a Pandas program to create and display a one-dimensional array using series containing even numbers upto 10¶ 
In [3]:
import pandas as pd
ds = pd.Series([2, 4, 6, 8,10]) 
print(ds)

0     2
1     4
2     6
3     8
4    10
dtype: int64

Write a Pandas program to convert a Panda module Series to Python list and its type.
In [4]:
import pandas as pd
ds = pd.Series([2, 4, 6, 8, 10])
print("Pandas Series and type")
print(ds)
print(type(ds))
print("Convert Pandas Series to Python list")
print(ds.tolist())
print(type(ds.tolist()))

Pandas Series and type
0     2
1     4
2     6
3     8
4    10
dtype: int64
<class 'pandas.core.series.Series'>
Convert Pandas Series to Python list
[2, 4, 6, 8, 10]
<class 'list'>

Write a Pandas program to add, subtract, multiple and divide two Pandas Series.Sample Series: [2, 4, 6, 8, 10], [1, 3, 5, 7, 9]
In [5]:
import pandas as pd
ds1 = pd.Series([2, 4, 6, 8, 10])
ds2 = pd.Series([1, 3, 5, 7, 9])
ds = ds1 + ds2
print("Add two Series:")
print(ds)
print("Subtract two Series:")
ds = ds1 - ds2
print(ds)
print("Multiply two Series:")
ds = ds1 * ds2
print(ds)
print("Divide Series1 by Series2:")
ds = ds1 / ds2
print(ds)

Add two Series:
0     3
1     7
2    11
3    15
4    19
dtype: int64
Subtract two Series:
0    1
1    1
2    1
3    1
4    1
dtype: int64
Multiply two Series:
0     2
1    12
2    30
3    56
4    90
dtype: int64
Divide Series1 by Series2:
0    2.000000
1    1.333333
2    1.200000
3    1.142857
4    1.111111
dtype: float64

Write a Pandas program to compare the elements of the two Pandas Series.
Sample Series: [2, 4, 6, 8, 10], [1, 3, 5, 7, 9]
In [6]:
import pandas as pd
ds1 = pd.Series([2, 4, 6, 8, 10])
ds2 = pd.Series([1, 3, 5, 7, 10])
print("Series1:")
print(ds1)
print("Series2:")
print(ds2)
print("Compare the elements of the said Series:")
print("Equals:")
print(ds1 == ds2)
print("Greater than:")
print(ds1 > ds2)
print("Less than:")
print(ds1 < ds2)

Series1:
0     2
1     4
2     6
3     8
4    10
dtype: int64
Series2:
0     1
1     3
2     5
3     7
4    10
dtype: int64
Compare the elements of the said Series:
Equals:
0    False
1    False
2    False
3    False
4     True
dtype: bool
Greater than:
0     True
1     True
2     True
3     True
4    False
dtype: bool
Less than:
0    False
1    False
2    False
3    False
4    False
dtype: bool

Write a Pandas program to convert a dictionary to a Pandas series.
Sample dictionary: d1 = {'a': 100, 'b': 200, 'c':300, 'd':400, 'e':800}
In [7]:
import pandas as pd
d1 = {'a': 100, 'b': 200, 'c':300, 'd':400, 'e':800}
print("Original dictionary:")
print(d1)
new_series = pd.Series(d1)
print("Converted series:")
print(new_series)

Original dictionary:
{'a': 100, 'b': 200, 'c': 300, 'd': 400, 'e': 800}
Converted series:
a    100
b    200
c    300
d    400
e    800
dtype: int64

Write a Pandas program to convert a NumPy array to a Pandas series.
Sample NumPy array: d1 = [10, 20, 30, 40, 50]
In [8]:
import numpy as np
import pandas as pd
np_array = np.array([10, 20, 30, 40, 50])
print("NumPy array:")
print(np_array)
new_series = pd.Series(np_array)
print("Converted Pandas series:")
print(new_series)

NumPy array:
[10 20 30 40 50]
Converted Pandas series:
0    10
1    20
2    30
3    40
4    50
dtype: int64

Write a Pandas program to change the data type of the given Series into numeric
['100', '200', 'python', '300.12', '400']
In [9]:
import pandas as pd
s1 = pd.Series(['100', '200', 'python', '300.12', '400a'])
print("Original Data Series:")
print(s1)
print("Change the said data type to numeric:")
s2 = pd.to_numeric(s1, errors='coerce')
print(s2)

Original Data Series:
0       100
1       200
2    python
3    300.12
4      400a
dtype: object
Change the said data type to numeric:
0    100.00
1    200.00
2       NaN
3    300.12
4       NaN
dtype: float64

Write a Pandas program to convert a given Series to an array.
In [10]:
import numpy as np
s1 = pd.Series(['100', '200', 'python', '300.12', '400'])
print("Original Data Series:")
print(s1)
print("Series to an array")
a = np.array(s1.values.tolist())
print (a)

Original Data Series:
0       100
1       200
2    python
3    300.12
4       400
dtype: object
Series to an array
['100' '200' 'python' '300.12' '400']

Write a Pandas program to sort a given Series.
In [12]:
import pandas as pd
s = pd.Series(['200','100','python', '300.12', '400'])
print("Original Data Series:")
print(s)
new_s = pd.Series(s).sort_values()
print(new_s)

Original Data Series:
0       200
1       100
2    python
3    300.12
4       400
dtype: object
1       100
0       200
3    300.12
4       400
2    python
dtype: object

Write a Pandas program to add some data to an existing Series.
In [13]:
import pandas as pd
s = pd.Series(['100', '200', 'python', '300.12', '400'])
print("Original Data Series:")
print(s)
print("\nData Series after adding some data:")
new_s = s.append(pd.Series(['500', 'php']))
print(new_s)

Original Data Series:
0       100
1       200
2    python
3    300.12
4       400
dtype: object

Data Series after adding some data:
0       100
1       200
2    python
3    300.12
4       400
0       500
1       php
dtype: object

Write a Pandas program to create a subset of a given series based on value and condition.
In [14]:
import pandas as pd
s = pd.Series([0, 1,2,3,4,5,6,7,8,9,10])
print("Original Data Series:")
print(s)
print("\nSubset of the above Data Series:")
n = 6
new_s = s[s >n]
print(new_s)

Original Data Series:
0      0
1      1
2      2
3      3
4      4
5      5
6      6
7      7
8      8
9      9
10    10
dtype: int64

Subset of the above Data Series:
7      7
8      8
9      9
10    10
dtype: int64

Write a Pandas program to change the order of index of a given series.
In [15]:
import pandas as pd
s = pd.Series(data = [1,2,3,4,5], index = ['A', 'B', 'C','D','E'])
print("Original Data Series:")
print(s)
s = s.reindex(index = ['B','A','C','D','E'])
print("Data Series after changing the order of index:")
print(s)

Original Data Series:
A    1
B    2
C    3
D    4
E    5
dtype: int64
Data Series after changing the order of index:
B    2
A    1
C    3
D    4
E    5
dtype: int64

Write a Pandas program to create the mean and standard deviation, maximum and minimum of the data of a given Series.
In [16]:
import pandas as pd
s = pd.Series(data = [1,2,3,4,5,6,7,8,9,5,3])
print("Original Data Series:")
print(s)
print("Mean of the said Data Series:")
print(s.mean())
print("Standard deviation of the said Data Series:")
print(s.std())

Original Data Series:
0     1
1     2
2     3
3     4
4     5
5     6
6     7
7     8
8     9
9     5
10    3
dtype: int64
Mean of the said Data Series:
4.818181818181818
Standard deviation of the said Data Series:
2.522624895547565

Write a Pandas program to get the elements of an array values into column-wise.
Sample data: {‘X’:[78,85,96,80,86], 'Y':[84,94,89,83,86],'Z':[86,97,96,72,83]}
In [17]:
import pandas as pd
df = pd.DataFrame({'X':[78,85,96,80,86], 'Y':[84,94,89,83,86],'Z':[86,97,96,72,83]});
print(df)

    X   Y   Z
0  78  84  86
1  85  94  97
2  96  89  96
3  80  83  72
4  86  86  83

Write a Pandas program to get the columns of the DataFrame (movies_metadata.csv file).
import pandas as pd import numpy as np df = pd.read_csv('movies_metadata.csv') print("Columns of the DataFrame:") print(df.columns)
Write a Pandas program to sort the DataFrame based on country from dataset of
movie_metadata.csv
In [18]:
import pandas as pd
import numpy as np
df = pd.read_csv('/home/cyborg/Desktop/Data analytics/programs/movie_metadata.csv')
print("sorted by country")
small_df = df[['num_user_for_reviews','language','country','content_rating','budget','title_year']]
result = small_df.sort_values('country')
print("DataFrame based on release date.")
print(result)

---------------------------------------------------------------------------
FileNotFoundError                         Traceback (most recent call last)
<ipython-input-18-a87509491350> in <module>()
      1 import pandas as pd
      2 import numpy as np
----> 3 df = pd.read_csv('/home/cyborg/Desktop/Data analytics/programs/movie_metadata.csv')
      4 print("sorted by country")
      5 small_df = df[['num_user_for_reviews','language','country','content_rating','budget','title_year']]

/usr/local/lib/python3.6/dist-packages/pandas/io/parsers.py in parser_f(filepath_or_buffer, sep, delimiter, header, names, index_col, usecols, squeeze, prefix, mangle_dupe_cols, dtype, engine, converters, true_values, false_values, skipinitialspace, skiprows, skipfooter, nrows, na_values, keep_default_na, na_filter, verbose, skip_blank_lines, parse_dates, infer_datetime_format, keep_date_col, date_parser, dayfirst, cache_dates, iterator, chunksize, compression, thousands, decimal, lineterminator, quotechar, quoting, doublequote, escapechar, comment, encoding, dialect, error_bad_lines, warn_bad_lines, delim_whitespace, low_memory, memory_map, float_precision)
    674         )
    675 
--> 676         return _read(filepath_or_buffer, kwds)
    677 
    678     parser_f.__name__ = name

/usr/local/lib/python3.6/dist-packages/pandas/io/parsers.py in _read(filepath_or_buffer, kwds)
    446 
    447     # Create the parser.
--> 448     parser = TextFileReader(fp_or_buf, **kwds)
    449 
    450     if chunksize or iterator:

/usr/local/lib/python3.6/dist-packages/pandas/io/parsers.py in __init__(self, f, engine, **kwds)
    878             self.options["has_index_names"] = kwds["has_index_names"]
    879 
--> 880         self._make_engine(self.engine)
    881 
    882     def close(self):

/usr/local/lib/python3.6/dist-packages/pandas/io/parsers.py in _make_engine(self, engine)
   1112     def _make_engine(self, engine="c"):
   1113         if engine == "c":
-> 1114             self._engine = CParserWrapper(self.f, **self.options)
   1115         else:
   1116             if engine == "python":

/usr/local/lib/python3.6/dist-packages/pandas/io/parsers.py in __init__(self, src, **kwds)
   1889         kwds["usecols"] = self.usecols
   1890 
-> 1891         self._reader = parsers.TextReader(src, **kwds)
   1892         self.unnamed_cols = self._reader.unnamed_cols
   1893 

pandas/_libs/parsers.pyx in pandas._libs.parsers.TextReader.__cinit__()

pandas/_libs/parsers.pyx in pandas._libs.parsers.TextReader._setup_parser_source()

FileNotFoundError: [Errno 2] File /home/cyborg/Desktop/Data analytics/programs/movie_metadata.csv does not exist: '/home/cyborg/Desktop/Data analytics/programs/movie_metadata.csv'

Write a Pandas program to get the details of the thrid movie of the DataFrame (movie_metadata.csv file).
In [ ]:
import pandas as pd
df = pd.read_csv('movies_metadata.csv')
third_movie = df.iloc[2]
print("Details of the third moviee:")
print(third_movie)

Write a Pandas program to display the first 10 rows of the DataFrame.
In [ ]:
import pandas as pd
df = pd.read_csv('/home/cyborg/Desktop/Data analytics/programs/movie_metadata.csv')
#Display the first 10 rows
result = df.head(10)
print("First 10 rows of the DataFrame:")
print(result)

Write a NumPy program to generate five random numbers from the normal distribution.
In [19]:
import numpy as np
x = np.random.normal(size=5)
print(x)

[-1.93324278  0.6030605   1.40468844 -0.33591437 -0.47066912]

Write a NumPy program to generate six random integers between 10 and 30
In [20]:
import numpy as np
x = np.random.randint(low=10, high=30, size=6)
print(x)

[27 23 26 23 17 27]

Write a NumPy program to create a 3x3x3 array with random values.
In [21]:
import numpy as np
x = np.random.random((3,3,3))
print(x)

[[[0.63897969 0.93477596 0.18790815]
  [0.83319116 0.42251887 0.49546299]
  [0.84104659 0.90762405 0.69110211]]

 [[0.89048133 0.82962533 0.86019711]
  [0.19841803 0.68535775 0.12207782]
  [0.97789833 0.45797466 0.13109251]]

 [[0.27071648 0.06597114 0.40998306]
  [0.19188201 0.2202296  0.36042947]
  [0.28043557 0.85094804 0.24096843]]]

Write a NumPy program to create a 5x5 array with random values and find the minimum and maximum values.
In [22]:
import numpy as np
x = np.random.random((5,5))
print("Original Array:")
print(x) 
xmin, xmax = x.min(), x.max()
print("Minimum and Maximum Values:")
print(xmin, xmax)

Original Array:
[[0.57199192 0.09367483 0.19908051 0.69073008 0.74169464]
 [0.60130553 0.93334703 0.2669936  0.10853994 0.01541463]
 [0.19796766 0.74672396 0.29380099 0.38870429 0.30004325]
 [0.68740987 0.06744246 0.50871207 0.23429934 0.81644084]
 [0.30289572 0.35885364 0.88743671 0.18790215 0.45711939]]
Minimum and Maximum Values:
0.015414633583063275 0.9333470274193792

Write a NumPy program to create a random 10x4 array and extract the first five rows of the array and store them into a variable.
In [23]:
import numpy as np
x = np.random.rand(10, 4)
print("Original array: ")
print(x)
y= x[:5, :]
print("First 5 rows of the above array:")
y= x[:5, :]
print(y)
z= x[:, :4]
print("First 3 columns of the above array:")
print(z)

Original array: 
[[0.60834719 0.92813562 0.56236733 0.74617414]
 [0.48738474 0.03211498 0.75387018 0.25043724]
 [0.56718961 0.63364806 0.50826313 0.2421042 ]
 [0.04122809 0.86802118 0.68072751 0.49113772]
 [0.9260406  0.5179827  0.69630672 0.31029828]
 [0.37750042 0.90005882 0.17850418 0.99246889]
 [0.4217083  0.96585487 0.92296931 0.66317228]
 [0.20891457 0.80254623 0.30352153 0.43557848]
 [0.33317506 0.60573575 0.41675096 0.48691061]
 [0.32947559 0.55949734 0.13095631 0.72665445]]
First 5 rows of the above array:
[[0.60834719 0.92813562 0.56236733 0.74617414]
 [0.48738474 0.03211498 0.75387018 0.25043724]
 [0.56718961 0.63364806 0.50826313 0.2421042 ]
 [0.04122809 0.86802118 0.68072751 0.49113772]
 [0.9260406  0.5179827  0.69630672 0.31029828]]
First 3 columns of the above array:
[[0.60834719 0.92813562 0.56236733 0.74617414]
 [0.48738474 0.03211498 0.75387018 0.25043724]
 [0.56718961 0.63364806 0.50826313 0.2421042 ]
 [0.04122809 0.86802118 0.68072751 0.49113772]
 [0.9260406  0.5179827  0.69630672 0.31029828]
 [0.37750042 0.90005882 0.17850418 0.99246889]
 [0.4217083  0.96585487 0.92296931 0.66317228]
 [0.20891457 0.80254623 0.30352153 0.43557848]
 [0.33317506 0.60573575 0.41675096 0.48691061]
 [0.32947559 0.55949734 0.13095631 0.72665445]]

Write a NumPy program to shuffle numbers and find permutation between 0 and 10 (inclusive).
In [24]:
import numpy as np
x = np.arange(10)
np.random.shuffle(x)
print(x)
print("Same result using permutation():")
print(np.random.permutation(10))

[3 0 5 1 4 2 8 7 9 6]
Same result using permutation():
[7 4 9 2 0 5 3 8 6 1]

Write a NumPy program to create a random integer nos of size 10 and sort it.
In [44]:
import numpy as np
x = np.random.random(10)
print("Original array:")
print(x)
x.sort()
print("Sorted array:")
print(x)

Original array:
[0.03818322 0.9826027  0.1181833  0.49370814 0.53348494 0.30928996
 0.65734502 0.29373485 0.002325   0.45023507]
Sorted array:
[0.002325   0.03818322 0.1181833  0.29373485 0.30928996 0.45023507
 0.49370814 0.53348494 0.65734502 0.9826027 ]

Write a NumPy program to create a random integer nos of size 10 and sort it.
In [28]:
import numpy as np
x=np.arange(10)
np.random.shuffle(x)
print(x)
x.sort()
print(x)

[5 2 9 6 0 4 7 8 1 3]
[0 1 2 3 4 5 6 7 8 9]