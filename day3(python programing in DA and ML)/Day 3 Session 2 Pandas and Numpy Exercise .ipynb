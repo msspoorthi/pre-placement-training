

EXCERCISES¶ 

Write a Pandas program to create and display a one-dimensional array using series containing event numbers upto 10000
tip : use List Comprehension
ds = pd.Series([0,2, 4, 6, 8..... 10000])
In [1]:
import pandas as pd
ds = pd.Series([x for x in range(10000) if x%2==0])
print(ds)

0          0
1          2
2          4
3          6
4          8
        ... 
4995    9990
4996    9992
4997    9994
4998    9996
4999    9998
Length: 5000, dtype: int64

Write a Pandas program to convert a Panda module Series of the numbers which are between 1000 and 2000 (both inclusive) and divisable by 5 to Python list and after convertion print its type
In [4]:
import pandas as pd
ds = pd.Series([x for x in range(1000,2000) if x%5==0])
print(ds)

0      1000
1      1005
2      1010
3      1015
4      1020
       ... 
195    1975
196    1980
197    1985
198    1990
199    1995
Length: 200, dtype: int64

Write a Pandas program to add, subtract, multiple and divide two Pandas Series and print their results using the Sample Series: [2, 4, 6, 8, ...100], [1, 3, 5, 7, 9...99]
In [7]:
import pandas as pd
ds1 = pd.Series([2, 4, 6, 8, 10])
ds2 = pd.Series([1, 3, 5, 7, 9])
ds = ds1 + ds2
print("Add two Series:")
print(ds)
print("Subtract two Series:")
ds = ds1 - ds2
print(ds)
print("Multiply two Series:")
ds = ds1 * ds2
print(ds)
print("Divide Series1 by Series2:")
ds = ds1 / ds2
print(ds)

Add two Series:
0     3
1     7
2    11
3    15
4    19
dtype: int64
Subtract two Series:
0    1
1    1
2    1
3    1
4    1
dtype: int64
Multiply two Series:
0     2
1    12
2    30
3    56
4    90
dtype: int64
Divide Series1 by Series2:
0    2.000000
1    1.333333
2    1.200000
3    1.142857
4    1.111111
dtype: float64

Write a Pandas program to compare (Equivalence, greater than, less than, not equal to )the elements of the two Pandas Series.
Sample Series: [All positive numbers divisable by 7 upto 1000], [All positive numbers divisable by 11 upto 1000]
In [26]:
import pandas as pd
ds1 = pd.Series([i for i in range(1000) if i%7==0])
ds2 = pd.Series([j for j in range(1000) if j%11==0])
print("Series1:")
print(ds1)
print("Series2:")
print(ds2)
print("Compare the elements of the said Series:")
print("Equals:")
for i in range(len(ds2)):
    print(i," ",ds1[i]==ds2[i])
for i in range(len(ds2)):
    print(i," ",ds1[i]>ds2[i])
for i in range(len(ds2)):
    print(i," ",ds1[i]<ds2[i])
for i in range(len(ds2)):
    print(i," ",ds1[i]!=ds2[i])

Series1:
0        0
1        7
2       14
3       21
4       28
      ... 
138    966
139    973
140    980
141    987
142    994
Length: 143, dtype: int64
Series2:
0       0
1      11
2      22
3      33
4      44
     ... 
86    946
87    957
88    968
89    979
90    990
Length: 91, dtype: int64
Compare the elements of the said Series:
Equals:
0   True
1   False
2   False
3   False
4   False
5   False
6   False
7   False
8   False
9   False
10   False
11   False
12   False
13   False
14   False
15   False
16   False
17   False
18   False
19   False
20   False
21   False
22   False
23   False
24   False
25   False
26   False
27   False
28   False
29   False
30   False
31   False
32   False
33   False
34   False
35   False
36   False
37   False
38   False
39   False
40   False
41   False
42   False
43   False
44   False
45   False
46   False
47   False
48   False
49   False
50   False
51   False
52   False
53   False
54   False
55   False
56   False
57   False
58   False
59   False
60   False
61   False
62   False
63   False
64   False
65   False
66   False
67   False
68   False
69   False
70   False
71   False
72   False
73   False
74   False
75   False
76   False
77   False
78   False
79   False
80   False
81   False
82   False
83   False
84   False
85   False
86   False
87   False
88   False
89   False
90   False
0   False
1   False
2   False
3   False
4   False
5   False
6   False
7   False
8   False
9   False
10   False
11   False
12   False
13   False
14   False
15   False
16   False
17   False
18   False
19   False
20   False
21   False
22   False
23   False
24   False
25   False
26   False
27   False
28   False
29   False
30   False
31   False
32   False
33   False
34   False
35   False
36   False
37   False
38   False
39   False
40   False
41   False
42   False
43   False
44   False
45   False
46   False
47   False
48   False
49   False
50   False
51   False
52   False
53   False
54   False
55   False
56   False
57   False
58   False
59   False
60   False
61   False
62   False
63   False
64   False
65   False
66   False
67   False
68   False
69   False
70   False
71   False
72   False
73   False
74   False
75   False
76   False
77   False
78   False
79   False
80   False
81   False
82   False
83   False
84   False
85   False
86   False
87   False
88   False
89   False
90   False
0   False
1   True
2   True
3   True
4   True
5   True
6   True
7   True
8   True
9   True
10   True
11   True
12   True
13   True
14   True
15   True
16   True
17   True
18   True
19   True
20   True
21   True
22   True
23   True
24   True
25   True
26   True
27   True
28   True
29   True
30   True
31   True
32   True
33   True
34   True
35   True
36   True
37   True
38   True
39   True
40   True
41   True
42   True
43   True
44   True
45   True
46   True
47   True
48   True
49   True
50   True
51   True
52   True
53   True
54   True
55   True
56   True
57   True
58   True
59   True
60   True
61   True
62   True
63   True
64   True
65   True
66   True
67   True
68   True
69   True
70   True
71   True
72   True
73   True
74   True
75   True
76   True
77   True
78   True
79   True
80   True
81   True
82   True
83   True
84   True
85   True
86   True
87   True
88   True
89   True
90   True
0   False
1   True
2   True
3   True
4   True
5   True
6   True
7   True
8   True
9   True
10   True
11   True
12   True
13   True
14   True
15   True
16   True
17   True
18   True
19   True
20   True
21   True
22   True
23   True
24   True
25   True
26   True
27   True
28   True
29   True
30   True
31   True
32   True
33   True
34   True
35   True
36   True
37   True
38   True
39   True
40   True
41   True
42   True
43   True
44   True
45   True
46   True
47   True
48   True
49   True
50   True
51   True
52   True
53   True
54   True
55   True
56   True
57   True
58   True
59   True
60   True
61   True
62   True
63   True
64   True
65   True
66   True
67   True
68   True
69   True
70   True
71   True
72   True
73   True
74   True
75   True
76   True
77   True
78   True
79   True
80   True
81   True
82   True
83   True
84   True
85   True
86   True
87   True
88   True
89   True
90   True

Write a Pandas program to convert a NumPy array to a Pandas series.
Sample NumPy array: d1 = [10, 20, 30, 40, 50... 1000]
In [8]:
import numpy as np
import pandas as pd
np_array = np.array([m for m in range(1000) if m%10==0])
print("NumPy array:")
print(np_array)
new_series = pd.Series(np_array)
print("Converted Pandas series:")
print(new_series)

NumPy array:
[  0  10  20  30  40  50  60  70  80  90 100 110 120 130 140 150 160 170
 180 190 200 210 220 230 240 250 260 270 280 290 300 310 320 330 340 350
 360 370 380 390 400 410 420 430 440 450 460 470 480 490 500 510 520 530
 540 550 560 570 580 590 600 610 620 630 640 650 660 670 680 690 700 710
 720 730 740 750 760 770 780 790 800 810 820 830 840 850 860 870 880 890
 900 910 920 930 940 950 960 970 980 990]
Converted Pandas series:
0       0
1      10
2      20
3      30
4      40
     ... 
95    950
96    960
97    970
98    980
99    990
Length: 100, dtype: int32

Write a Pandas program to convert a given Series to an array.
Sample series is ['100', '200', ‘300’,’400’,’500’,'python', '300.12', '400',’is’,’great’,’language’]
In [9]:
import pandas as pd
import numpy as np
s1 = pd.Series(['100', '200', '300','400','500','python', '300.12', '400','is','great','language'])
print("Original Data Series:")
print(s1)
print("Series to an array")
a = np.array(s1)
print (a)

Original Data Series:
0          100
1          200
2          300
3          400
4          500
5       python
6       300.12
7          400
8           is
9        great
10    language
dtype: object
Series to an array
['100' '200' '300' '400' '500' 'python' '300.12' '400' 'is' 'great'
 'language']

Write a Pandas program to sort a given Series.
Sample series is ['100', '200', ‘300’,’400’,’500’,'python', '300.12', '400',’is’,’great’,’language’]
In [10]:
import pandas as pd
import numpy as np
s1 = pd.Series(['100', '200', '300','400','500','python', '300.12', '400','is','great','language'])
print("Original Data Series:")
print(s1)
print("Series to an array")
a = np.array(s1)
a.sort()
print (a)

Original Data Series:
0          100
1          200
2          300
3          400
4          500
5       python
6       300.12
7          400
8           is
9        great
10    language
dtype: object
Series to an array
['100' '200' '300' '300.12' '400' '400' '500' 'great' 'is' 'language'
 'python']

Write a Pandas program to create a subsets of a given series based on value and condition.
Sample NumPy array: d1 = [10, 20, 30, 40, 50... 1000]
value and condtion : Subset 1 :numbers divisable by 7 Subset 2 : numbers divisable by 5
In [14]:
import pandas as pd
s = pd.Series([i for i in range(1000) if i%10==0])
print("Original Data Series:")
print(s)
print("\nSubset 1:")
new_s = s[s%7==0]
print(new_s)
print("\nSubset 2:")
new_s1 = s[s%5==0]
print(new_s1)

Original Data Series:
0       0
1      10
2      20
3      30
4      40
     ... 
95    950
96    960
97    970
98    980
99    990
Length: 100, dtype: int64

Subset 1:
0       0
7      70
14    140
21    210
28    280
35    350
42    420
49    490
56    560
63    630
70    700
77    770
84    840
91    910
98    980
dtype: int64

Subset 2:
0       0
1      10
2      20
3      30
4      40
     ... 
95    950
96    960
97    970
98    980
99    990
Length: 100, dtype: int64

Write a Pandas program to create the mean and standard deviation, maximum and minimum of the data of a given Series of the prime numbers upto 1000
In [16]:
import pandas as pd
s = pd.Series(data = [x for x in range(1000) if x%2==0])
print("Original Data Series:")
print(s)
print("Mean of the said Data Series:")
print(s.mean())
print("Standard deviation of the said Data Series:")
print(s.std())

Original Data Series:
0        0
1        2
2        4
3        6
4        8
      ... 
495    990
496    992
497    994
498    996
499    998
Length: 500, dtype: int64
Mean of the said Data Series:
499.0
Standard deviation of the said Data Series:
288.9636655359978

Write a Pandas program to get the elements of an array values into column-wise.
Sample data: {‘X’:[All odd numbers but not divisable by 7 upto 1000], 'Y':[ All even numbers but not divisable by 5 upto 1000 ],'Z':[ All odd numbers but not divisable by 3 upto 1000]}
In [61]:
import pandas as pd
a =[x for x in range(1000) if (x%2!=0)and(x%7!=0)]
b =[y for y in range(1000) if (y%2==0)and(y%5!=0)]
c=[z for z in range(1000) if (z%2!=0)and(z%3!=0)]
s1=pd.Series(a)
s2=pd.Series(b)
s3=pd.Series(c)
df = pd.DataFrame({'X':s1,'Y':s2,'Z':s3})
df
Out[61]:

X
Y
Z
0
1
2.0
1.0
1
3
4.0
5.0
2
5
6.0
7.0
3
9
8.0
11.0
4
11
12.0
13.0
...
...
...
...
424
991
NaN
NaN
425
993
NaN
NaN
426
995
NaN
NaN
427
997
NaN
NaN
428
999
NaN
NaN
429 rows × 3 columns

Write a Pandas program to display the first 10 rows of the DataFrame for any particular three fields.
In [52]:
import pandas as pd
import numpy as np

exam_data  = {'name': ['Anastasia', 'Dima', 'Katherine', 'James', 'Emily', 'Michael', 'Matthew', 'Laura', 'Kevin', 'Jonas'],
        'score': [12.5, 9, 16.5, np.nan, 9, 20, 14.5, np.nan, 8, 19],
        'attempts': [1, 3, 2, 3, 2, 3, 1, 1, 2, 1],
        'qualify': ['yes', 'no', 'yes', 'no', 'no', 'yes', 'yes', 'no', 'no', 'yes']}
labels = ['a', 'b', 'c', 'd', 'e', 'f', 'g', 'h', 'i', 'j']

df = pd.DataFrame(exam_data , index=labels)
print("First three rows of the data frame:")
df1 = df[['name','score','attempts']]
df1.head(10)

First three rows of the data frame:
Out[52]:

name
score
attempts
a
Anastasia
12.5
1
b
Dima
9.0
3
c
Katherine
16.5
2
d
James
NaN
3
e
Emily
9.0
2
f
Michael
20.0
3
g
Matthew
14.5
1
h
Laura
NaN
1
i
Kevin
8.0
2
j
Jonas
19.0
1

Write a Pandas program to display the first 10 rows of the DataFrame for any particular three fields.(movie_metadata.csv)
In [30]:
import pandas as pd
xyz = pd.read_csv('movie_metadata.csv') 
df = xyz[['language','country','duration']]
print(df.head(10))

  language country  duration
0  English     USA     178.0
1  English     USA     169.0
2  English      UK     148.0
3  English     USA     164.0
4      NaN     NaN       NaN
5  English     USA     132.0
6  English     USA     156.0
7  English     USA     100.0
8  English     USA     141.0
9  English      UK     153.0

Write a Pandas program to find the mean and standard deviation, maximum and minimum of the data of 50 students Python marks stored in a CSV file called Python_mark.csv( you have to create the file yourself like rollno,mark for 50 records)
In [66]:
import pandas as pd
df = pd.DataFrame({'roll number':[1,2,3,4,5,6,7,8,9,10,11,12,13,14,15,16,17,18,19,20,21,22,23,24,25,26,27,28,29,30,31,32,33,34,35,36,37,38,39,40,41,42,43,44,45,46,47,48,49,50],'marks':[20,22,23,24,25,26,27,12,13,15,23,24,23,21,12,13,14,15,30,24,25,26,27,28,29,30,22,22,22,22,23,23,23,23,23,23,24,24,24,25,26,26,27,27,27,27,27,26,27,23]})
print(df.mean())
print(df.std())
print(df.min())
print(df.max())
df.to_csv('python_marks',index=False)
df1 = pd.read_csv('python_marks')
print(df1)
print(df1.mean())
print(df1.std())
print(df1.min())
print(df1.max())

roll number    25.50
marks          23.14
dtype: float64
roll number    14.577380
marks           4.558061
dtype: float64
roll number     1
marks          12
dtype: int64
roll number    50
marks          30
dtype: int64
    roll number  marks
0             1     20
1             2     22
2             3     23
3             4     24
4             5     25
5             6     26
6             7     27
7             8     12
8             9     13
9            10     15
10           11     23
11           12     24
12           13     23
13           14     21
14           15     12
15           16     13
16           17     14
17           18     15
18           19     30
19           20     24
20           21     25
21           22     26
22           23     27
23           24     28
24           25     29
25           26     30
26           27     22
27           28     22
28           29     22
29           30     22
30           31     23
31           32     23
32           33     23
33           34     23
34           35     23
35           36     23
36           37     24
37           38     24
38           39     24
39           40     25
40           41     26
41           42     26
42           43     27
43           44     27
44           45     27
45           46     27
46           47     27
47           48     26
48           49     27
49           50     23
roll number    25.50
marks          23.14
dtype: float64
roll number    14.577380
marks           4.558061
dtype: float64
roll number     1
marks          12
dtype: int64
roll number    50
marks          30
dtype: int64

Write a Pandas program to get the details of the seventh movie of the DataFrame for any particular three fields #(movie_metadata.csv file).
In [31]:
import pandas as pd
df = pd.read_csv('movie_metadata.csv')
seventh_movie = df.iloc[3]
print("Details of the seventh movie:")
print(seventh_movie)

Details of the seventh movie:
color                                                                    Color
director_name                                                Christopher Nolan
num_critic_for_reviews                                                     813
duration                                                                   164
director_facebook_likes                                                  22000
actor_3_facebook_likes                                                   23000
actor_2_name                                                    Christian Bale
actor_1_facebook_likes                                                   27000
gross                                                              4.48131e+08
genres                                                         Action|Thriller
actor_1_name                                                         Tom Hardy
movie_title                                             The Dark Knight Rises 
num_voted_users                                                        1144337
cast_total_facebook_likes                                               106759
actor_3_name                                              Joseph Gordon-Levitt
facenumber_in_poster                                                         0
plot_keywords                deception|imprisonment|lawlessness|police offi...
movie_imdb_link              http://www.imdb.com/title/tt1345836/?ref_=fn_t...
num_user_for_reviews                                                      2701
language                                                               English
country                                                                    USA
content_rating                                                           PG-13
budget                                                                 2.5e+08
title_year                                                                2012
actor_2_facebook_likes                                                   23000
imdb_score                                                                 8.5
aspect_ratio                                                              2.35
movie_facebook_likes                                                    164000
Unnamed: 28                                                                NaN
Name: 3, dtype: object

Write a Pandas program to sort the DataFrame based on title_year from dataset of movie_metadata.csv for any particular three fields
In [35]:
import pandas as pd
df = pd.read_csv('movie_metadata.csv')
result = df[['title_year']]
print("Details of title and genres:")
print(result.sort_values('title_year'))

Details of title and genres:
      title_year
4810      1916.0
4958      1920.0
4885      1925.0
2734      1927.0
4812      1929.0
...          ...
4798         NaN
4803         NaN
4819         NaN
4869         NaN
5039         NaN

[5043 rows x 1 columns]

Write a Pandas program to sort the DataFrame based on country and language from dataset of movie_metadata.csv
In [44]:
import pandas as pd
df = pd.read_csv('movie_metadata.csv')
# Create a smaller dataframe
small_df = df[['country','language']]
print("DataFrame based on country and language")
print(small_df.sort_values('country'))
print(small_df.sort_values('language'))

DataFrame based on country and language
          country language
4735  Afghanistan     Dari
4450    Argentina  Spanish
4666    Argentina  Spanish
4415    Argentina  Spanish
4000    Argentina  Spanish
...           ...      ...
4             NaN      NaN
279           NaN      NaN
2370          NaN  English
3397          NaN  English
4021          NaN  English

[5043 rows x 2 columns]
        country    language
5031    English           8
3504  Australia  Aboriginal
377          UK  Aboriginal
4393     France      Arabic
4580    Germany      Arabic
...         ...         ...
4409        USA         NaN
4630        USA         NaN
4810        USA         NaN
4885        USA         NaN
4958        USA         NaN

[5043 rows x 2 columns]

Write a NumPy program to create a random 4x4 array and extract the 2nd and 3rd rows of the array and store them into a variable
In [48]:
import numpy as np
x = np.random.random((4,4))
print("Original Array:")
print(x) 
y = np.array(x[1:3])
y

Original Array:
[[0.43367123 0.00673285 0.65616447 0.30824418]
 [0.60798254 0.4677453  0.7251931  0.56868049]
 [0.64310954 0.75110524 0.94008092 0.26835842]
 [0.86021557 0.63079621 0.06969899 0.95064722]]
Out[48]:
array([[0.60798254, 0.4677453 , 0.7251931 , 0.56868049],
       [0.64310954, 0.75110524, 0.94008092, 0.26835842]])

Write a NumPy program to create a 10x10 array with random values and find the minimum and maximum values.
In [30]:
import numpy as np
x = np.random.random((10,10))
print("Original Array:")
print(x) 
xmin, xmax = x.min(), x.max()
print("Minimum and Maximum Values:")
print(xmin, xmax)

Original Array:
[[0.40744834 0.76725232 0.29901391 0.52678708 0.50050912 0.26806553
  0.60441933 0.71362678 0.84354463 0.71855215]
 [0.23867435 0.16897204 0.86577115 0.5841707  0.83426608 0.35085185
  0.34920257 0.9630319  0.29648193 0.94376889]
 [0.46109152 0.34094848 0.06756039 0.70675974 0.67537061 0.20796137
  0.88637508 0.83620898 0.34100151 0.95813007]
 [0.77580644 0.22816935 0.92762463 0.35865119 0.97411752 0.96621547
  0.60110388 0.86232567 0.73515401 0.54361125]
 [0.36984684 0.98268965 0.24000102 0.11591066 0.9911876  0.36262576
  0.57167393 0.65072071 0.81512786 0.93296194]
 [0.70729899 0.33586498 0.33205016 0.74947205 0.26015726 0.31481229
  0.18860129 0.03878801 0.34052664 0.3698773 ]
 [0.82865584 0.56043079 0.5901351  0.51445038 0.45064597 0.74564006
  0.28866654 0.74823784 0.44024861 0.27594701]
 [0.36667635 0.91889486 0.79782812 0.39486533 0.85726505 0.12097559
  0.21971706 0.1491802  0.60639133 0.50535389]
 [0.39604401 0.34712094 0.40811745 0.01176127 0.20350161 0.32497736
  0.74648876 0.20441711 0.70576369 0.5578726 ]
 [0.8479119  0.5593926  0.34205714 0.65973995 0.72573185 0.60727403
  0.44622705 0.90479505 0.16497758 0.97048782]]
Minimum and Maximum Values:
0.011761273557725271 0.9911875970210984

Write a NumPy program to generate 8 random integers between 100 and 300
In [31]:
import numpy as np
x = np.random.randint(low=100, high=300, size=8)
print(x)

[217 184 299 181 233 135 213 214]

Write a NumPy program to create a random integer nos of size 20 and sort it.
In [32]:
import numpy as np
x = np.random.random(20)
print("Original array:")
print(x)
x.sort()
print("Sorted array:")
print(x)

Original array:
[0.57333589 0.10845084 0.21260732 0.49743465 0.55785806 0.64558782
 0.33222289 0.44123651 0.52195969 0.02645905 0.37172284 0.32401907
 0.59267055 0.39478873 0.64135444 0.07826998 0.49796754 0.82544896
 0.29097065 0.55375522]
Sorted array:
[0.02645905 0.07826998 0.10845084 0.21260732 0.29097065 0.32401907
 0.33222289 0.37172284 0.39478873 0.44123651 0.49743465 0.49796754
 0.52195969 0.55375522 0.55785806 0.57333589 0.59267055 0.64135444
 0.64558782 0.82544896]